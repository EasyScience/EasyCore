{
  "cells": [
    {
      "cell_type": "code",
      "execution_count": null,
      "metadata": {
        "collapsed": false
      },
      "outputs": [],
      "source": [
        "%matplotlib inline"
      ]
    },
    {
      "cell_type": "markdown",
      "metadata": {},
      "source": [
        "\n# Subclassing BaseObj - Simple Pendulum\nThis  example shows how to subclass :class:`easyCore.Objects.Base.BaseObj` with parameters from\n:class:`easyCore.Objects.Base.Parameter`. For this example a simple pendulum will be modeled.\n\n\\begin{align}y = A \\sin (2 \\pi f t + \\phi )\\end{align}\n\n## Imports\n\nFirstly the necessary imports. Notice that we import numpy from easyCore. This is not done for any reason other than\nsaving time from multiple imports.\n"
      ]
    },
    {
      "cell_type": "code",
      "execution_count": null,
      "metadata": {
        "collapsed": false
      },
      "outputs": [],
      "source": [
        "from easyCore import np\nfrom easyCore.Objects.ObjectClasses import BaseObj, Parameter\nimport matplotlib.pyplot as plt"
      ]
    },
    {
      "cell_type": "markdown",
      "metadata": {},
      "source": [
        "## Subclassing\nTo include embedded rST, use a line of >= 20 ``#``'s or ``#%%`` between your\nrST and your code. This separates your example\ninto distinct text and code blocks. You can continue writing code below the\nembedded rST text block:\n\n"
      ]
    },
    {
      "cell_type": "code",
      "execution_count": null,
      "metadata": {
        "collapsed": false
      },
      "outputs": [],
      "source": [
        "class Pendulum(BaseObj):\n    def __init__(self, A: Parameter, f: Parameter, p: Parameter):\n        super(Pendulum, self).__init__('SimplePendulum', A=A, f=f, p=p)\n\n    @classmethod\n    def from_pars(cls, A: float = 1, f: float = 1, p: float = 0):\n        A = Parameter('Amplitude', A)\n        f = Parameter('Frequency', f)\n        p = Parameter('Phase', p)\n        return cls(A, f, p)\n\n    def __call__(self, t):\n        return self.A.raw_value * np.sin(2*np.pi*self.f.raw_value*t + self.p.raw_value)\n\n    def plot(self, time, axis=None, **kwargs):\n        if axis is None:\n            axis = plt\n        else:\n            axis.set_title(f'A={self.A.raw_value}, F={self.f.raw_value}, P={self.p.raw_value}')\n        p = axis.plot(time, self(time), **kwargs)\n        return p"
      ]
    },
    {
      "cell_type": "markdown",
      "metadata": {},
      "source": [
        "## Single Example\nTo include embedded rST, use a line of >= 20 ``#``'s or ``#%%`` between your\nrST and your code. This separates your example\ninto distinct text and code blocks. You can continue writing code below the\nembedded rST text block:\n\n"
      ]
    },
    {
      "cell_type": "code",
      "execution_count": null,
      "metadata": {
        "collapsed": false
      },
      "outputs": [],
      "source": [
        "p1 = Pendulum.from_pars()\n# Another pendulum with Amplitude = 5\np2 = Pendulum.from_pars(A=5)\n# Another pendulum with Frequency = 4\np3 = Pendulum.from_pars(A=5, f=4)\n# Another pendulum with Phase = pi/2\np4 = Pendulum.from_pars(A=5, f=4, p=np.pi/2)"
      ]
    },
    {
      "cell_type": "markdown",
      "metadata": {},
      "source": [
        "Plotting\n\n"
      ]
    },
    {
      "cell_type": "code",
      "execution_count": null,
      "metadata": {
        "collapsed": false
      },
      "outputs": [],
      "source": [
        "t = np.linspace(0, 3, 601)\nfig = plt.figure()\ngs = fig.add_gridspec(2, 2)\n(ax1, ax2), (ax3, ax4) = gs.subplots(sharex='col', sharey='row')\np1.plot(t, axis=ax1)\np2.plot(t, axis=ax2)\np3.plot(t, axis=ax3)\np4.plot(t, axis=ax4)\nfig.show()"
      ]
    },
    {
      "cell_type": "markdown",
      "metadata": {},
      "source": [
        "## Multiple Examples\nTo include embedded rST, use a line of >= 20 ``#``'s or ``#%%`` between your\nrST and your code. This separates your example\ninto distinct text and code blocks. You can continue writing code below the\nembedded rST text block:\n\n"
      ]
    },
    {
      "cell_type": "code",
      "execution_count": null,
      "metadata": {
        "collapsed": false
      },
      "outputs": [],
      "source": [
        "pendulum_array = [Pendulum.from_pars(p=phase) for phase in np.linspace(0, 1, 3)]\nfig = plt.figure()\nfor pendulum in pendulum_array:\n    pendulum.plot(t, label=f'Phase = {pendulum.p}')\nplt.legend(loc='lower right')\nfig.show()"
      ]
    }
  ],
  "metadata": {
    "kernelspec": {
      "display_name": "Python 3",
      "language": "python",
      "name": "python3"
    },
    "language_info": {
      "codemirror_mode": {
        "name": "ipython",
        "version": 3
      },
      "file_extension": ".py",
      "mimetype": "text/x-python",
      "name": "python",
      "nbconvert_exporter": "python",
      "pygments_lexer": "ipython3",
      "version": "3.10.6"
    }
  },
  "nbformat": 4,
  "nbformat_minor": 0
}
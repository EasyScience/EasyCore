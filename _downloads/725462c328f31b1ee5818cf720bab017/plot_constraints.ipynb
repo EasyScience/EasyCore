{
  "cells": [
    {
      "cell_type": "code",
      "execution_count": null,
      "metadata": {
        "collapsed": false
      },
      "outputs": [],
      "source": [
        "%matplotlib inline"
      ]
    },
    {
      "cell_type": "markdown",
      "metadata": {},
      "source": [
        "\n# Constraints example\nThis  example shows the usages of the different constraints.\n"
      ]
    },
    {
      "cell_type": "code",
      "execution_count": null,
      "metadata": {
        "collapsed": false
      },
      "outputs": [],
      "source": [
        "from easyCore.Fitting import Constraints\nfrom easyCore.Objects.ObjectClasses import Parameter\n\np1 = Parameter('p1', 1)\nconstraint = Constraints.NumericConstraint(p1, '<', 5)\np1.user_constraints['c1'] = constraint\n\nfor value in range(4, 7):\n    p1.value = value\n    print(f'Set Value: {value}, Parameter Value: {p1}')"
      ]
    },
    {
      "cell_type": "markdown",
      "metadata": {},
      "source": [
        "To include embedded rST, use a line of >= 20 ``#``'s or ``#%%`` between your\nrST and your code. This separates your example\ninto distinct text and code blocks. You can continue writing code below the\nembedded rST text block:\n\n"
      ]
    }
  ],
  "metadata": {
    "kernelspec": {
      "display_name": "Python 3",
      "language": "python",
      "name": "python3"
    },
    "language_info": {
      "codemirror_mode": {
        "name": "ipython",
        "version": 3
      },
      "file_extension": ".py",
      "mimetype": "text/x-python",
      "name": "python",
      "nbconvert_exporter": "python",
      "pygments_lexer": "ipython3",
      "version": "3.8.10"
    }
  },
  "nbformat": 4,
  "nbformat_minor": 0
}